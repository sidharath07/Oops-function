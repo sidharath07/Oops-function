{
 "cells": [
  {
   "cell_type": "code",
   "execution_count": 1,
   "id": "2747b802-582c-4ff8-b8f8-9c1f7e491ff7",
   "metadata": {},
   "outputs": [],
   "source": [
    "a = 1"
   ]
  },
  {
   "cell_type": "code",
   "execution_count": 2,
   "id": "9b89f357-f06d-4755-82de-e4b0845377f0",
   "metadata": {},
   "outputs": [
    {
     "name": "stdout",
     "output_type": "stream",
     "text": [
      "<class 'int'>\n"
     ]
    }
   ],
   "source": [
    "print(type(a))"
   ]
  },
  {
   "cell_type": "code",
   "execution_count": 10,
   "id": "0f97ab30-145b-4577-a818-5fecf95b3158",
   "metadata": {},
   "outputs": [
    {
     "name": "stdout",
     "output_type": "stream",
     "text": [
      "<class 'str'>\n"
     ]
    }
   ],
   "source": [
    "print(type(\"Sidharth\"))"
   ]
  },
  {
   "cell_type": "code",
   "execution_count": 5,
   "id": "c9c5019a-d260-4752-a946-bfa7768f627c",
   "metadata": {},
   "outputs": [],
   "source": [
    "# if we create a class function so we will use class keywords"
   ]
  },
  {
   "cell_type": "code",
   "execution_count": 6,
   "id": "a84d3d0d-805d-44ea-9523-7226ee15a2cf",
   "metadata": {},
   "outputs": [],
   "source": [
    "class test :\n",
    "    pass"
   ]
  },
  {
   "cell_type": "code",
   "execution_count": 7,
   "id": "0a1c1791-c89d-41c3-9408-b35ca6f6334d",
   "metadata": {},
   "outputs": [],
   "source": [
    "a = test()"
   ]
  },
  {
   "cell_type": "code",
   "execution_count": 8,
   "id": "3f8b306c-54dd-4809-9c9f-96f46bab1d74",
   "metadata": {},
   "outputs": [
    {
     "data": {
      "text/plain": [
       "__main__.test"
      ]
     },
     "execution_count": 8,
     "metadata": {},
     "output_type": "execute_result"
    }
   ],
   "source": [
    "type(a)"
   ]
  },
  {
   "cell_type": "code",
   "execution_count": 9,
   "id": "6edbafc0-109a-4b7c-a257-fabcb3af8cda",
   "metadata": {},
   "outputs": [
    {
     "name": "stdout",
     "output_type": "stream",
     "text": [
      "<class '__main__.test'>\n"
     ]
    }
   ],
   "source": [
    "print(type(a))"
   ]
  },
  {
   "cell_type": "code",
   "execution_count": 11,
   "id": "0886c1a7-c6d1-45e8-a018-23be548015aa",
   "metadata": {},
   "outputs": [],
   "source": [
    "class pwskills : \n",
    "    \n",
    "    def welcome_msg(self):\n",
    "        print(\"welcome to pwskills\")"
   ]
  },
  {
   "cell_type": "code",
   "execution_count": 12,
   "id": "92f44e77-af5a-4ed9-a316-9d418fe31c2f",
   "metadata": {},
   "outputs": [],
   "source": [
    "rohan = pwskills()"
   ]
  },
  {
   "cell_type": "code",
   "execution_count": 13,
   "id": "36a5d21d-3e3d-462d-8533-17bc89f8259d",
   "metadata": {},
   "outputs": [
    {
     "name": "stdout",
     "output_type": "stream",
     "text": [
      "<class '__main__.pwskills'>\n"
     ]
    }
   ],
   "source": [
    "print(type(rohan))"
   ]
  },
  {
   "cell_type": "code",
   "execution_count": 14,
   "id": "241e7a4e-c5e6-4e94-997a-e366806d9c0b",
   "metadata": {},
   "outputs": [
    {
     "name": "stdout",
     "output_type": "stream",
     "text": [
      "welcome to pwskills\n"
     ]
    }
   ],
   "source": [
    "rohan.welcome_msg()"
   ]
  },
  {
   "cell_type": "code",
   "execution_count": 15,
   "id": "6178fe10-a413-4788-9ef2-6523b2a187a8",
   "metadata": {},
   "outputs": [],
   "source": [
    "sidharth = pwskills()"
   ]
  },
  {
   "cell_type": "code",
   "execution_count": 16,
   "id": "fd3fd90b-79d8-42a5-829e-65dd8b769b7d",
   "metadata": {},
   "outputs": [
    {
     "name": "stdout",
     "output_type": "stream",
     "text": [
      "welcome to pwskills\n"
     ]
    }
   ],
   "source": [
    "sidharth.welcome_msg()"
   ]
  },
  {
   "cell_type": "code",
   "execution_count": 17,
   "id": "66bef709-89db-4e5a-9e01-1a240082aaec",
   "metadata": {},
   "outputs": [],
   "source": [
    "class pwskills :\n",
    "    \n",
    "    def __init__(self , phone_number , email_id , student_id ):\n",
    "        self.phone_number = phone_number\n",
    "        self.email_id = email_id\n",
    "        self.student_id = student_id\n",
    "        \n",
    "    def return_student_deetials(self):\n",
    "        return self.student_id , self.phone_number , self.email_id\n",
    "        "
   ]
  },
  {
   "cell_type": "code",
   "execution_count": 21,
   "id": "24fa3d4b-2152-498a-8346-1ae78530e272",
   "metadata": {},
   "outputs": [],
   "source": [
    "sidharth = pwskills(915550806 , \"sidharthkushwah873@gmail.com\" , 101)"
   ]
  },
  {
   "cell_type": "code",
   "execution_count": 23,
   "id": "6e25ad73-b58f-4e5f-907a-93b922405cc7",
   "metadata": {},
   "outputs": [
    {
     "data": {
      "text/plain": [
       "(101, 915550806, 'sidharthkushwah873@gmail.com')"
      ]
     },
     "execution_count": 23,
     "metadata": {},
     "output_type": "execute_result"
    }
   ],
   "source": [
    "sidharth.return_student_deetials()"
   ]
  },
  {
   "cell_type": "code",
   "execution_count": 25,
   "id": "aab95322-4070-497a-9412-02ee17aeabab",
   "metadata": {},
   "outputs": [],
   "source": [
    "naman = pwskills(7260073905 , \"naman@gmail.com\" , 8089)"
   ]
  },
  {
   "cell_type": "code",
   "execution_count": 26,
   "id": "c107878a-1e1b-4844-9da6-42972aad0714",
   "metadata": {},
   "outputs": [
    {
     "data": {
      "text/plain": [
       "(8089, 7260073905, 'naman@gmail.com')"
      ]
     },
     "execution_count": 26,
     "metadata": {},
     "output_type": "execute_result"
    }
   ],
   "source": [
    "naman.return_student_deetials()"
   ]
  },
  {
   "cell_type": "code",
   "execution_count": 48,
   "id": "1de7df3b-a079-46a4-9253-91c63b7bdfd6",
   "metadata": {},
   "outputs": [],
   "source": [
    "class pwskills2 :\n",
    "    \n",
    "    def __init__(self , phone_number , email_id , student_id ):\n",
    "        self.phone_number1 = phone_number\n",
    "        self.email_id1 = email_id\n",
    "        self.student_id1 = student_id\n",
    "        \n",
    "    def return_student_deetials(self):\n",
    "        return self.student_id1 , self.phone_number1 , self.email_id1\n",
    "        "
   ]
  },
  {
   "cell_type": "code",
   "execution_count": 49,
   "id": "bdf5c983-6aec-4b46-beed-9e14efed7e12",
   "metadata": {},
   "outputs": [],
   "source": [
    "sidh = pwskills2(93787672 , \"shjshuedhejnd\" , 923)"
   ]
  },
  {
   "cell_type": "code",
   "execution_count": 50,
   "id": "63d26cdd-6827-44ed-a3f1-5ae8d4b38021",
   "metadata": {},
   "outputs": [
    {
     "data": {
      "text/plain": [
       "93787672"
      ]
     },
     "execution_count": 50,
     "metadata": {},
     "output_type": "execute_result"
    }
   ],
   "source": [
    "sidh.phone_number1"
   ]
  },
  {
   "cell_type": "code",
   "execution_count": 51,
   "id": "366fd145-664d-4f93-8d7f-9553da73a191",
   "metadata": {},
   "outputs": [
    {
     "data": {
      "text/plain": [
       "'shjshuedhejnd'"
      ]
     },
     "execution_count": 51,
     "metadata": {},
     "output_type": "execute_result"
    }
   ],
   "source": [
    "sidh.email_id1"
   ]
  },
  {
   "cell_type": "code",
   "execution_count": 53,
   "id": "b49afd1c-1c4a-4e46-a7ba-0ae3ed39e96a",
   "metadata": {},
   "outputs": [
    {
     "data": {
      "text/plain": [
       "(923, 93787672, 'shjshuedhejnd')"
      ]
     },
     "execution_count": 53,
     "metadata": {},
     "output_type": "execute_result"
    }
   ],
   "source": [
    "sidh.return_student_deetials()"
   ]
  },
  {
   "cell_type": "code",
   "execution_count": 61,
   "id": "a7bc5c5a-7021-44d3-8fe8-01d6545f328e",
   "metadata": {},
   "outputs": [],
   "source": [
    "class pwskills2 :\n",
    "    \n",
    "    def __init__(sidh , phone_number , email_id , student_id ):\n",
    "        sidh.phone_number1 = phone_number\n",
    "        sidh.email_id1 = email_id\n",
    "        sidh.student_id1 = student_id\n",
    "        \n",
    "    def return_student_deetials(self):\n",
    "        return sidh.student_id1 , sidh.phone_number1 , sidh.email_id1\n",
    "        "
   ]
  },
  {
   "cell_type": "code",
   "execution_count": 62,
   "id": "1a35733b-0f4f-45a4-9fca-f4fde8451fcb",
   "metadata": {},
   "outputs": [],
   "source": [
    "sidharth = pwskills2(9155555098 , \"sidhatj826@gmail.com\" , 876)"
   ]
  },
  {
   "cell_type": "code",
   "execution_count": 64,
   "id": "2e0ecba8-15ec-42bc-ab8c-ad04619baa14",
   "metadata": {},
   "outputs": [
    {
     "data": {
      "text/plain": [
       "9155555098"
      ]
     },
     "execution_count": 64,
     "metadata": {},
     "output_type": "execute_result"
    }
   ],
   "source": [
    "sidharth.phone_number1"
   ]
  },
  {
   "cell_type": "code",
   "execution_count": null,
   "id": "96046633-590c-43b9-bd11-973d08d2c954",
   "metadata": {},
   "outputs": [],
   "source": []
  }
 ],
 "metadata": {
  "kernelspec": {
   "display_name": "Python 3 (ipykernel)",
   "language": "python",
   "name": "python3"
  },
  "language_info": {
   "codemirror_mode": {
    "name": "ipython",
    "version": 3
   },
   "file_extension": ".py",
   "mimetype": "text/x-python",
   "name": "python",
   "nbconvert_exporter": "python",
   "pygments_lexer": "ipython3",
   "version": "3.10.8"
  }
 },
 "nbformat": 4,
 "nbformat_minor": 5
}
